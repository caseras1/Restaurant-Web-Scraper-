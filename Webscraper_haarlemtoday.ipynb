{
 "cells": [
  {
   "cell_type": "code",
   "execution_count": 23,
   "id": "32a4ee7c-1ef6-45bc-9419-75321becb536",
   "metadata": {},
   "outputs": [
    {
     "name": "stdout",
     "output_type": "stream",
     "text": [
      "✅ Scraped 51 restaurants to haarlem_today_restaurants.csv\n"
     ]
    }
   ],
   "source": [
    "from selenium import webdriver\n",
    "from selenium.webdriver.chrome.options import Options\n",
    "from bs4 import BeautifulSoup\n",
    "import pandas as pd\n",
    "import time\n",
    "\n",
    "# Setup headless browser\n",
    "options = Options()\n",
    "options.headless = True\n",
    "driver = webdriver.Chrome(options=options)\n",
    "\n",
    "url = \"https://cas.haarlemtoday.nl/firm-category/food-drinks/\"\n",
    "driver.get(url)\n",
    "time.sleep(5)  # Let the page fully load\n",
    "\n",
    "soup = BeautifulSoup(driver.page_source, \"html.parser\")\n",
    "driver.quit()\n",
    "\n",
    "# UPDATE SELECTORS based on your site structure\n",
    "cards = soup.select(\".oxy-dynamic-list\")  # This might be a wrapper\n",
    "restaurant_data = []\n",
    "\n",
    "for card in soup.select(\".oxy-post\") or soup.select(\".ct-div-block\"):  # Adjust if needed\n",
    "    title_el = card.select_one(\".oxy-post-title\") or card.select_one(\".ct-headline\")\n",
    "    link_el = card.select_one(\"a\")\n",
    "    \n",
    "    if title_el:\n",
    "        restaurant_data.append({\n",
    "            \"Name\": title_el.text.strip(),\n",
    "            \"Link\": link_el[\"href\"] if link_el else None\n",
    "        })\n",
    "\n",
    "# Output to CSV\n",
    "df = pd.DataFrame(restaurant_data)\n",
    "df.to_csv(\"haarlem_today_restaurants.csv\", index=False)\n",
    "print(\"✅ Scraped\", len(df), \"restaurants to haarlem_today_restaurants.csv\")\n"
   ]
  },
  {
   "cell_type": "code",
   "execution_count": null,
   "id": "3f976ac1-c9f1-4e15-bbdf-5fa1484bd991",
   "metadata": {},
   "outputs": [],
   "source": []
  }
 ],
 "metadata": {
  "kernelspec": {
   "display_name": "Python [conda env:base] *",
   "language": "python",
   "name": "conda-base-py"
  },
  "language_info": {
   "codemirror_mode": {
    "name": "ipython",
    "version": 3
   },
   "file_extension": ".py",
   "mimetype": "text/x-python",
   "name": "python",
   "nbconvert_exporter": "python",
   "pygments_lexer": "ipython3",
   "version": "3.12.7"
  }
 },
 "nbformat": 4,
 "nbformat_minor": 5
}
